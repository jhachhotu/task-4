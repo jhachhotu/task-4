import pandas as pd



# Load the dataset
data = pd.read_csv('globalterrorismdb_0718dist.csv', encoding='ISO-8859-1')



# Step 3: Data Cleaning



# Display the first few rows of the dataset
print(data.head())

# Check for missing values
print(data.isnull().sum())

# Fill or drop missing values as appropriate
data = data.fillna({'nkill': 0, 'nwound': 0})

# For simplicity, let's focus on key columns
columns_of_interest = ['iyear', 'imonth', 'iday', 'country_txt', 'region_txt', 'city', 'latitude', 'longitude', 'attacktype1_txt', 'targtype1_txt', 'weaptype1_txt', 'nkill', 'nwound']
data = data[columns_of_interest]


# Step 4: Exploratory Data Analysis
# Summary statistics
print(data.describe())



 # step 4.2 Temporal Analysis
import matplotlib.pyplot as plt
import seaborn as sns

# Plot number of attacks per year
plt.figure(figsize=(12, 6))
sns.countplot(data['iyear'])
plt.title('Number of Terrorist Attacks Per Year')
plt.xlabel('Year')
plt.ylabel('Number of Attacks')
plt.xticks(rotation=90)
plt.show()



